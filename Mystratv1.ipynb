{
 "cells": [
  {
   "cell_type": "code",
   "execution_count": null,
   "id": "9480e56d-943a-4601-90ad-d0616a8f4b22",
   "metadata": {},
   "outputs": [],
   "source": []
  },
  {
   "cell_type": "code",
   "execution_count": 1,
   "id": "e2f7d3b0-7f45-4f27-baf6-059e79e0015f",
   "metadata": {},
   "outputs": [
    {
     "name": "stderr",
     "output_type": "stream",
     "text": [
      "C:\\Users\\redwan.khafif\\AppData\\Local\\Temp\\ipykernel_12868\\2948216024.py:7: FutureWarning: 'T' is deprecated and will be removed in a future version, please use 'min' instead.\n",
      "  dates = pd.date_range(start=\"2023-01-01\", periods=n, freq=\"T\")\n"
     ]
    },
    {
     "name": "stdout",
     "output_type": "stream",
     "text": [
      "Entry 2023-01-01 02:19:00 beta=0.0147 size=13.4118 price=1491.23\n",
      "Exit 2023-01-01 11:16:00 pnl=-0.52% cash=9948.15\n",
      "Entry 2023-01-01 11:17:00 beta=0.0524 size=13.4052 price=1484.22\n",
      "Total Return sur 7 jours = 107.26 %\n",
      "Sharpe Ratio estimé (annualisé) = 2.13\n"
     ]
    }
   ],
   "source": [
    "import numpy as np\n",
    "import pandas as pd\n",
    "\n",
    "np.random.seed(42)\n",
    "\n",
    "n = 7*24*60  # 7 jours en minutes\n",
    "dates = pd.date_range(start=\"2023-01-01\", periods=n, freq=\"T\")\n",
    "\n",
    "btc_log_returns = np.random.normal(0, 0.0005, n)\n",
    "btc_prices = 20000 * np.exp(np.cumsum(btc_log_returns))\n",
    "\n",
    "noise = np.random.normal(0, 0.0007, n)\n",
    "eth_log_returns = 0.6 * btc_log_returns + noise * 0.4\n",
    "eth_prices = 1500 * np.exp(np.cumsum(eth_log_returns))\n",
    "\n",
    "df = pd.DataFrame({\"BTC\": btc_prices, \"ETH\": eth_prices}, index=dates)\n",
    "\n",
    "initial_capital = 10000\n",
    "cash = initial_capital\n",
    "position = 0\n",
    "entry_price = 0\n",
    "equity_curve = []\n",
    "\n",
    "lag_minutes = 10\n",
    "window = 120\n",
    "min_beta_threshold = 0.005  # seuil plus bas = plus de trades\n",
    "stop_loss_pct = 0.005       # stop loss à 0.5%\n",
    "take_profit_pct = 0.07      # take profit à 7%\n",
    "risk_allocation = 0.4       # 40% du capital à chaque trade (plus agressif)\n",
    "leverage = 2                # levier 2x\n",
    "\n",
    "df['ETH_log'] = np.log(df['ETH'])\n",
    "df['ETH_diff'] = df['ETH_log'].diff().abs()\n",
    "df['ATR'] = df['ETH_diff'].rolling(window=14).mean()\n",
    "\n",
    "btc_log = np.log(df[\"BTC\"]).diff()\n",
    "eth_log = np.log(df[\"ETH\"]).diff()\n",
    "\n",
    "last_entry_equity = None\n",
    "exit_time = None\n",
    "\n",
    "for i in range(window, len(df) - lag_minutes):\n",
    "    btc_window = btc_log.iloc[i - window + 1 : i + 1].dropna()\n",
    "    eth_window = eth_log.iloc[i - window + 1 - lag_minutes : i + 1 - lag_minutes].dropna()\n",
    "    \n",
    "    if len(btc_window) == len(eth_window) and len(btc_window) > 1:\n",
    "        beta = np.cov(btc_window, eth_window)[0, 1] / np.var(btc_window)\n",
    "    else:\n",
    "        beta = 0\n",
    "\n",
    "    atr = df['ATR'].iloc[i]\n",
    "    if np.isnan(atr) or atr == 0:\n",
    "        atr = 0.0005\n",
    "\n",
    "    if beta > min_beta_threshold and position == 0:\n",
    "        risk_per_trade = risk_allocation * cash\n",
    "        pos_size = risk_per_trade / (atr * df[\"ETH\"].iloc[i])\n",
    "        pos_size = min(pos_size, cash / df[\"ETH\"].iloc[i])  \n",
    "\n",
    "        if pos_size > 0:\n",
    "            pos_size *= leverage  # appliquer levier\n",
    "            entry_price = df[\"ETH\"].iloc[i]\n",
    "            position = pos_size\n",
    "            cash -= pos_size / leverage * entry_price  # mise cash réduite car levier\n",
    "            last_entry_equity = cash + position * entry_price\n",
    "            print(f\"Entry {df.index[i]} beta={beta:.4f} size={pos_size:.4f} price={entry_price:.2f}\")\n",
    "\n",
    "    if position != 0:\n",
    "        current_price = df[\"ETH\"].iloc[i]\n",
    "        pnl_pct = (current_price - entry_price) / entry_price\n",
    "\n",
    "        if pnl_pct <= -stop_loss_pct or pnl_pct >= take_profit_pct:\n",
    "            cash += position / leverage * current_price\n",
    "            print(f\"Exit {df.index[i]} pnl={pnl_pct*100:.2f}% cash={cash:.2f}\")\n",
    "            position = 0\n",
    "            entry_price = 0\n",
    "\n",
    "    equity = cash + (position * df[\"ETH\"].iloc[i] if position != 0 else 0)\n",
    "    equity_curve.append(equity)\n",
    "\n",
    "equity_curve = pd.Series(equity_curve, index=df.index[window : window + len(equity_curve)])\n",
    "returns = equity_curve.pct_change().dropna()\n",
    "total_return = (equity_curve.iloc[-1] / initial_capital - 1) * 100\n",
    "sharpe_ratio = returns.mean() / returns.std() * np.sqrt(60*24*30)\n",
    "\n",
    "print(f\"Total Return sur 7 jours = {total_return:.2f} %\")\n",
    "print(f\"Sharpe Ratio estimé (annualisé) = {sharpe_ratio:.2f}\")\n"
   ]
  },
  {
   "cell_type": "code",
   "execution_count": null,
   "id": "464d3018-5f5b-422d-9936-46340c55f58b",
   "metadata": {},
   "outputs": [],
   "source": []
  }
 ],
 "metadata": {
  "kernelspec": {
   "display_name": "Python [conda env:base] *",
   "language": "python",
   "name": "conda-base-py"
  },
  "language_info": {
   "codemirror_mode": {
    "name": "ipython",
    "version": 3
   },
   "file_extension": ".py",
   "mimetype": "text/x-python",
   "name": "python",
   "nbconvert_exporter": "python",
   "pygments_lexer": "ipython3",
   "version": "3.12.7"
  }
 },
 "nbformat": 4,
 "nbformat_minor": 5
}
